{
 "cells": [
  {
   "cell_type": "code",
   "execution_count": 30,
   "metadata": {},
   "outputs": [],
   "source": [
    "from selenium import webdriver\n",
    "from selenium.webdriver.common.by import By\n",
    "\n",
    "driver = webdriver.Chrome()\n",
    "driver.get('https://www.insource.co.jp/bup/middle-schedule.html')\n"
   ]
  },
  {
   "cell_type": "code",
   "execution_count": 31,
   "metadata": {},
   "outputs": [],
   "source": [
    "form = driver.find_element(\n",
    "    By.XPATH, '/html/body/header/div[1]/div[1]/div[1]/div[1]/div/form/div/input')\n",
    "form.send_keys('Python')\n",
    "form.submit()\n",
    "# driver.quit()"
   ]
  }
 ],
 "metadata": {
  "kernelspec": {
   "display_name": "Python 3",
   "language": "python",
   "name": "python3"
  },
  "language_info": {
   "codemirror_mode": {
    "name": "ipython",
    "version": 3
   },
   "file_extension": ".py",
   "mimetype": "text/x-python",
   "name": "python",
   "nbconvert_exporter": "python",
   "pygments_lexer": "ipython3",
   "version": "3.10.0"
  },
  "orig_nbformat": 4,
  "vscode": {
   "interpreter": {
    "hash": "88a58dbbba85e9c21b907186057e9275063ee80d2972a1a1bc7de90c95f50c3c"
   }
  }
 },
 "nbformat": 4,
 "nbformat_minor": 2
}
