{
 "cells": [
  {
   "cell_type": "code",
   "execution_count": 1,
   "metadata": {},
   "outputs": [],
   "source": [
    "from selenium import webdriver\n",
    "from selenium.webdriver.common.by import By\n",
    "import time\n",
    "\n",
    "URL = 'https://ccfolia.com/home'\n",
    "\n",
    "driver = webdriver.Chrome()\n",
    "driver.get(URL)\n",
    "\n",
    "driver.maximize_window()\n",
    "time.sleep(3)\n"
   ]
  },
  {
   "cell_type": "code",
   "execution_count": 2,
   "metadata": {},
   "outputs": [],
   "source": [
    "button = driver.find_element(\n",
    "    By.XPATH, '/html/body/div[2]/div[3]/div/div/div[2]/button[1]')\n",
    "button.click()\n",
    "time.sleep(3)\n"
   ]
  },
  {
   "cell_type": "code",
   "execution_count": 3,
   "metadata": {},
   "outputs": [],
   "source": [
    "\n",
    "form_ID = driver.find_element(\n",
    "    By.XPATH, '/html/body/div[2]/div/form/fieldset[1]/div[1]/input')\n",
    "form_pass = driver.find_element(\n",
    "    By.XPATH, '/html/body/div[2]/div/form/fieldset[1]/div[2]/input')\n",
    "\n",
    "\n",
    "form_ID.send_keys('@Sn_hetaTRPG')\n",
    "form_pass.send_keys('sHi1521ori')\n",
    "form_pass.submit()\n",
    "time.sleep(5)\n"
   ]
  },
  {
   "cell_type": "code",
   "execution_count": 4,
   "metadata": {},
   "outputs": [],
   "source": [
    "room_ID = 'dU79D49ye'\n",
    "input_roonID = driver.find_element(\n",
    "    By.XPATH, '/html/body/div/div/div[1]/div/form/div/div/div/input'\n",
    ")\n",
    "input_roonID.send_keys(room_ID)\n",
    "input_roonID.submit()\n",
    "time.sleep(3)\n"
   ]
  },
  {
   "cell_type": "code",
   "execution_count": 5,
   "metadata": {},
   "outputs": [
    {
     "data": {
      "text/plain": [
       "[<selenium.webdriver.remote.webelement.WebElement (session=\"374ae092f3012791fbb8600f15eee52f\", element=\"b936a623-8968-46a2-bb01-20f0733d0098\")>]"
      ]
     },
     "execution_count": 5,
     "metadata": {},
     "output_type": "execute_result"
    }
   ],
   "source": [
    "import requests\n",
    "from bs4 import BeautifulSoup\n",
    "\n",
    "button = driver.find_element(\n",
    "    By.XPATH, '/html/body/div[1]/div/div[3]/div/div/div[2]/form/div[1]/div[1]/button')\n",
    "button.click()\n",
    "character_list = driver.find_elements(\n",
    "    By.XPATH, '/html/body/div[3]/div[3]/ul'\n",
    ")\n",
    "character_list\n"
   ]
  }
 ],
 "metadata": {
  "kernelspec": {
   "display_name": "Python 3",
   "language": "python",
   "name": "python3"
  },
  "language_info": {
   "codemirror_mode": {
    "name": "ipython",
    "version": 3
   },
   "file_extension": ".py",
   "mimetype": "text/x-python",
   "name": "python",
   "nbconvert_exporter": "python",
   "pygments_lexer": "ipython3",
   "version": "3.10.0"
  },
  "orig_nbformat": 4,
  "vscode": {
   "interpreter": {
    "hash": "88a58dbbba85e9c21b907186057e9275063ee80d2972a1a1bc7de90c95f50c3c"
   }
  }
 },
 "nbformat": 4,
 "nbformat_minor": 2
}
